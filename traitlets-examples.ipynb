{
 "cells": [
  {
   "cell_type": "markdown",
   "metadata": {},
   "source": [
    "Use https://github.com/rmorshea/traitlets/tree/5.0-prepre-release\n",
    "\n",
    "+ Add the remote\n",
    "+ Create a new branch\n",
    "+ Pull from the remote and the branch 5.0-prepre-release"
   ]
  },
  {
   "cell_type": "code",
   "execution_count": 1,
   "metadata": {
    "collapsed": true
   },
   "outputs": [],
   "source": [
    "from traitlets import describe"
   ]
  },
  {
   "cell_type": "markdown",
   "metadata": {},
   "source": [
    "---\n",
    "\n",
    "# [Decorators](https://www.thecodeship.com/patterns/guide-to-python-function-decorators/)\n",
    "\n",
    "A decorator is a special syntax which uses the symbol \"`@`\" to specify that a function should be wrapped by another."
   ]
  },
  {
   "cell_type": "code",
   "execution_count": 2,
   "metadata": {
    "collapsed": true
   },
   "outputs": [],
   "source": [
    "def stringify(function):\n",
    "    \"\"\"A decorator that turns outputs into strings\"\"\"\n",
    "    def wrapper(*args, **kwargs):\n",
    "        print(\"entered wrapper\")\n",
    "        result = function(*args, **kwargs)\n",
    "        print(\"exiting wrapper\")\n",
    "        return str(result)\n",
    "    return wrapper"
   ]
  },
  {
   "cell_type": "code",
   "execution_count": 3,
   "metadata": {
    "collapsed": true
   },
   "outputs": [],
   "source": [
    "@stringify\n",
    "def my_function(x):\n",
    "    return x**2"
   ]
  },
  {
   "cell_type": "code",
   "execution_count": 4,
   "metadata": {
    "collapsed": false
   },
   "outputs": [
    {
     "name": "stdout",
     "output_type": "stream",
     "text": [
      "entered wrapper\n",
      "exiting wrapper\n",
      "-------------------------------\n",
      "got the str '25'\n"
     ]
    }
   ],
   "source": [
    "result = my_function(5)\n",
    "print(\"-------------------------------\")\n",
    "print(\"got %s\" % describe(\"the\", result))"
   ]
  },
  {
   "cell_type": "markdown",
   "metadata": {},
   "source": [
    "## What if we didn't have decorators?\n",
    "\n",
    "The code below replicates the result of `@stringify` but without the decorator syntax:\n",
    "\n",
    "```python\n",
    "def my_function(x):\n",
    "    print(\"called my_function\")\n",
    "    return x**2\n",
    "\n",
    "my_function = stringify(my_function)\n",
    "```"
   ]
  },
  {
   "cell_type": "markdown",
   "metadata": {},
   "source": [
    "---\n",
    "\n",
    "# [Descriptors](https://docs.python.org/3/howto/descriptor.html)\n",
    "\n",
    "Which has at least one of three methods,"
   ]
  },
  {
   "cell_type": "code",
   "execution_count": 5,
   "metadata": {
    "collapsed": false
   },
   "outputs": [],
   "source": [
    "class Descriptor(object):\n",
    "\n",
    "    def __set__(self, obj, value):\n",
    "        print(\"setting %r to %r\" % (value, obj))\n",
    "\n",
    "    def __get__(self, obj, cls):\n",
    "        print(\"getting from %r\" % obj)\n",
    "\n",
    "    def __delete__(self, obj):\n",
    "        print(\"deleting from %r\" % obj)"
   ]
  },
  {
   "cell_type": "markdown",
   "metadata": {},
   "source": [
    "and is assigned as a class attribute"
   ]
  },
  {
   "cell_type": "code",
   "execution_count": 6,
   "metadata": {
    "collapsed": false
   },
   "outputs": [],
   "source": [
    "class MyClass(object):\n",
    "    x = Descriptor()"
   ]
  },
  {
   "cell_type": "markdown",
   "metadata": {},
   "source": [
    "in order to define special logic whenever `getattr`, `setattr`, or `delattr` is called on an owner instance."
   ]
  },
  {
   "cell_type": "code",
   "execution_count": 7,
   "metadata": {
    "collapsed": false
   },
   "outputs": [
    {
     "name": "stdout",
     "output_type": "stream",
     "text": [
      "getting from <__main__.MyClass object at 0x103514470>\n",
      "setting 'a value' to <__main__.MyClass object at 0x103514470>\n",
      "deleting from <__main__.MyClass object at 0x103514470>\n"
     ]
    }
   ],
   "source": [
    "mc = MyClass()\n",
    "mc.x\n",
    "mc.x = \"a value\"\n",
    "del mc.x"
   ]
  },
  {
   "cell_type": "markdown",
   "metadata": {},
   "source": [
    "---\n",
    "\n",
    "# [Metaclasses](https://blog.ionelmc.ro/2015/02/09/understanding-python-metaclasses/)\n",
    "\n",
    "Metaclasses are to classes, as classes are to instances.\n",
    "\n",
    "In python, `type` is the one metaclass to rule them all, because **all** classes in python are instances of it. Even `type` is an instance of `type`!"
   ]
  },
  {
   "cell_type": "code",
   "execution_count": 8,
   "metadata": {
    "collapsed": false
   },
   "outputs": [
    {
     "name": "stdout",
     "output_type": "stream",
     "text": [
      "It is True that <class 'int'> is an instance of <class 'type'>\n",
      "It is True that <class 'str'> is an instance of <class 'type'>\n",
      "It is True that <class 'object'> is an instance of <class 'type'>\n",
      "It is True that <class 'type'> is an instance of <class 'type'>\n"
     ]
    }
   ],
   "source": [
    "for cls in (int, str, object, type):\n",
    "    print(\"It is %s that %r is an instance of %r\" % (isinstance(cls, type), cls, type))"
   ]
  },
  {
   "cell_type": "markdown",
   "metadata": {},
   "source": [
    "To use a metaclass we define a class which inherits from `type`. This class does not have to have an `__init__` or `__new__` method, but it's not likely that you really needed a metaclass in the first place if you aren't going to use them. After all, it's these methods that allow one to initialize classes."
   ]
  },
  {
   "cell_type": "markdown",
   "metadata": {},
   "source": [
    "---\n",
    "\n",
    "# How does `traitlets` work?\n",
    "\n",
    "`traitlets` uses metaclasses, descriptors, and decorators in tandem to create special validation and notification phases when setting values.\n",
    "\n",
    "Stripping away all the extra logic, this is the underlying skeleton of `traitlets`:"
   ]
  },
  {
   "cell_type": "code",
   "execution_count": 9,
   "metadata": {
    "collapsed": false
   },
   "outputs": [
    {
     "name": "stdout",
     "output_type": "stream",
     "text": [
      "creating <class '__main__.HasFeatures'>\n"
     ]
    }
   ],
   "source": [
    "import six\n",
    "\n",
    "class Feature(object):\n",
    "    \n",
    "    klass = None\n",
    "    \n",
    "    def class_init(self, cls, name):\n",
    "        print(\"the feature %r was assigned to %r\" % (self, name))\n",
    "        self.this_class = cls\n",
    "        self.name = name\n",
    "    \n",
    "    def __set__(self, obj, value):\n",
    "        if isinstance(value, self.klass):\n",
    "            obj.__dict__[self.name] = value\n",
    "        else:\n",
    "            raise TypeError(\"Expected a %r instance, not %s\" % (self.klass, describe(\"the\", value)))\n",
    "    \n",
    "    def __get__(self, obj, cls):\n",
    "        if obj is None:\n",
    "            # this is true when accessing the attributed\n",
    "            # from the class, not instances of the class\n",
    "            return self\n",
    "        return obj.__dict__[self.name]\n",
    "    \n",
    "    def __delete__(self, obj):\n",
    "        del obj.__dict__[self.name]\n",
    "\n",
    "\n",
    "class MetaHasFeatures(type):\n",
    "\n",
    "    def __init__(cls, name, bases, classdict):\n",
    "        print(\"creating %r\" % cls)\n",
    "        for k, v in classdict.items():\n",
    "            if isinstance(v, Feature):\n",
    "                v.class_init(cls, k)\n",
    "\n",
    "\n",
    "class HasFeatures(six.with_metaclass(MetaHasFeatures, object)):\n",
    "    pass"
   ]
  },
  {
   "cell_type": "markdown",
   "metadata": {},
   "source": [
    "### Now let's use it!"
   ]
  },
  {
   "cell_type": "code",
   "execution_count": 10,
   "metadata": {
    "collapsed": false
   },
   "outputs": [
    {
     "name": "stdout",
     "output_type": "stream",
     "text": [
      "creating <class '__main__.MyClass'>\n",
      "the feature <__main__.MyInt object at 0x103524b00> was assigned to 'i'\n",
      "-------------------------------\n",
      "Expected a <class 'int'> instance, not the str '1'\n",
      "-------------------------------\n",
      "assigned the value 1\n",
      "-------------------------------\n",
      "get 1 from <__main__.MyClass object at 0x103524ba8>\n"
     ]
    }
   ],
   "source": [
    "class MyInt(Feature):\n",
    "    # this feature only accepts ints\n",
    "    klass = int\n",
    "\n",
    "\n",
    "class MyClass(HasFeatures):\n",
    "    \n",
    "    i = MyInt()\n",
    "\n",
    "print(\"-------------------------------\")\n",
    "\n",
    "mc = MyClass()\n",
    "try:\n",
    "    mc.i = \"1\"\n",
    "except Exception as e:\n",
    "    print(e)\n",
    "print(\"-------------------------------\")\n",
    "mc.i = 1\n",
    "print(\"assigned the value %r\" % 1)\n",
    "print(\"-------------------------------\")\n",
    "print(\"get %r from %r\" % (mc.i, mc))"
   ]
  },
  {
   "cell_type": "markdown",
   "metadata": {},
   "source": [
    "---\n",
    "\n",
    "# What about all the decorators?\n",
    "\n",
    "<span style=\"color:red\">If the following code doesn't make sense now, don't worry - it's complicated</span>.\n",
    "\n",
    "In order to make a decorator for observing trait changes we have to make some interelated changes:\n",
    "\n",
    "1. A `BaseDecorator` object.\n",
    "    + When called, it must still act like a method.\n",
    "2. An `observe` decorator.\n",
    "    + Wraps a method in an `Observer` object.\n",
    "3. An `Observer` object.\n",
    "    + After the instance is created it must register itself as an observer.\n",
    "4. An `OtherFeature` descriptor.\n",
    "    + It will notify its owner whenever a value changes\n",
    "5. A new `HasOtherFeatures` class.\n",
    "    + It will find `BaseObservers` and call their `instance_init` methods so they can register themselves\n",
    "    + Offer a method `observe` that will register observers\n",
    "    + Offer a `notify` which will be used to pass change data to observers."
   ]
  },
  {
   "cell_type": "code",
   "execution_count": 11,
   "metadata": {
    "collapsed": false
   },
   "outputs": [
    {
     "name": "stdout",
     "output_type": "stream",
     "text": [
      "creating <class '__main__.HasOtherFeatures'>\n"
     ]
    }
   ],
   "source": [
    "import types\n",
    "import inspect\n",
    "\n",
    "\n",
    "class BaseDecorator(object):\n",
    "\n",
    "    def __init__(self, name, method):\n",
    "        self.feature_name = name\n",
    "        self.method = method\n",
    "    \n",
    "    def __call__(self, *args, **kwargs):\n",
    "        return self.method(*args, **kwargs)\n",
    "    \n",
    "    def __get__(self, obj, cls):\n",
    "        if obj is None:\n",
    "            return self\n",
    "        return types.MethodType(self.method, obj)\n",
    "\n",
    "\n",
    "def observe(name):\n",
    "    def setup(method):\n",
    "        return Observer(name, method)\n",
    "    return setup\n",
    "\n",
    "\n",
    "class Observer(BaseDecorator):\n",
    "\n",
    "    def instance_init(self, obj):\n",
    "        obj.observe(self, self.feature_name)\n",
    "\n",
    "\n",
    "class OtherFeature(Feature):\n",
    "    \n",
    "    def __set__(self, obj, new):\n",
    "        old = obj.__dict__.get(self.name, None)\n",
    "        super(OtherFeature, self).__set__(obj, new)\n",
    "        if new != old:\n",
    "            data = dict(old=old, new=new, name=self.name, owner=obj)\n",
    "            obj.notify(data)\n",
    "\n",
    "\n",
    "class HasOtherFeatures(HasFeatures):\n",
    "\n",
    "    def __init__(self):\n",
    "        self._observers = {}\n",
    "        self.setup()\n",
    "    \n",
    "    def setup(self):\n",
    "        for k, v in inspect.getmembers(type(self)):\n",
    "            if isinstance(v, BaseDecorator):\n",
    "                v.instance_init(self)\n",
    "    \n",
    "    def observe(self, handler, name):\n",
    "        if name in self._observers:\n",
    "            olist = self._observers[name]\n",
    "        else:\n",
    "            olist = []\n",
    "            self._observers[name] = olist\n",
    "        if handler not in olist:\n",
    "            olist.append(handler)\n",
    "    \n",
    "    def notify(self, data):\n",
    "        for o in self._observers.get(data[\"name\"], []):\n",
    "            if isinstance(o, BaseDecorator):\n",
    "                o(self, data)\n",
    "            else:\n",
    "                o(data)"
   ]
  },
  {
   "cell_type": "markdown",
   "metadata": {},
   "source": [
    "### Now let's use it!"
   ]
  },
  {
   "cell_type": "code",
   "execution_count": 12,
   "metadata": {
    "collapsed": false
   },
   "outputs": [
    {
     "name": "stdout",
     "output_type": "stream",
     "text": [
      "creating <class '__main__.MyClass'>\n",
      "the feature <__main__.MyInt object at 0x103543860> was assigned to 'i'\n",
      "-------------------------------\n",
      "observed a change!\n",
      "{'old': None, 'name': 'i', 'new': 1, 'owner': <__main__.MyClass object at 0x103524cc0>}\n",
      "-------------------------------\n"
     ]
    }
   ],
   "source": [
    "class MyInt(OtherFeature):\n",
    "    # this feature only accepts ints\n",
    "    klass = int\n",
    "\n",
    "\n",
    "class MyClass(HasOtherFeatures):\n",
    "    \n",
    "    i = MyInt()\n",
    "    \n",
    "    @observe(\"i\")\n",
    "    def _i_observer(self, data):\n",
    "        print(\"observed a change!\")\n",
    "        print(data)\n",
    "\n",
    "print(\"-------------------------------\")\n",
    "\n",
    "mc = MyClass()\n",
    "mc.i = 1\n",
    "print(\"-------------------------------\")"
   ]
  },
  {
   "cell_type": "markdown",
   "metadata": {},
   "source": [
    "---\n",
    "\n",
    "# [The Traitlets Package](https://traitlets.readthedocs.io/en/stable/)\n",
    "\n",
    "Now that we have the fundamentals down, let's look at traitlets iteslf"
   ]
  },
  {
   "cell_type": "code",
   "execution_count": 13,
   "metadata": {
    "collapsed": true
   },
   "outputs": [],
   "source": [
    "from traitlets import *"
   ]
  },
  {
   "cell_type": "markdown",
   "metadata": {},
   "source": [
    "---\n",
    "\n",
    "## Defaults\n",
    "\n",
    "Default value generators create values \"on request\". In other words, it's only when you call `getattr`\n",
    "that the method `MyClass._i_default` will be used to create the default. Whatever it returns will be validated, assigned as the current value of the trait, and then returned to the getattr call.\n",
    "\n",
    "## Validation\n",
    "\n",
    "Traits have internal validation and cross validation. The interal stages occur first, and are the same for all instances of a trait type. Cross validators are created by users with the `@validate` decorator - we call them this because a validator which is a method on the owner of the trait can check to see whether the value is correct with respect to the state of the instance itself - say to check whether a value falls between the `min` and `max` attributes on the owner instance. Cross validation occurs after internal validation, so a cross validator of an `Int` trait can already expect that the values it recieves are `int` instances. No need to check whether `isinstance(proposal.value, int)`.\n",
    "\n",
    "## Observers\n",
    "\n",
    "Events can be observed by specifying trait names, traits with certain metadata, and/or events of a certain type. These events are triggered by passing a bunch to the method `HasTraits.notify_change`. So if you need to create your own kinds of events that people can listen into you need only define a bunch with a 'name' and a 'type'."
   ]
  },
  {
   "cell_type": "markdown",
   "metadata": {},
   "source": [
    "## Basic Example:"
   ]
  },
  {
   "cell_type": "code",
   "execution_count": 14,
   "metadata": {
    "collapsed": false
   },
   "outputs": [],
   "source": [
    "class MyClass(HasTraits):\n",
    "\n",
    "    i = Int()\n",
    "\n",
    "    @default(\"i\")\n",
    "    def _i_default(self):\n",
    "        \"\"\"The default value for the trait 'i'\n",
    "        \"\"\"\n",
    "        print(\"generating default value\")\n",
    "        return 1\n",
    "    \n",
    "    @validate(\"i\")\n",
    "    def _i_validation(self, proposal):\n",
    "        \"\"\"A \"cross validator\" for the trait 'i'\n",
    "        \"\"\"\n",
    "        print(\"cross validating %r\" % proposal.value)\n",
    "        return proposal.value\n",
    "    \n",
    "    @observe(\"i\", type=\"change\")\n",
    "    def _i_observer(self, change):\n",
    "        \"\"\"An observer for the trait 'i'\n",
    "        \"\"\"\n",
    "        print(\"observed a change from %r to %r\" % (change.old, change.new))"
   ]
  },
  {
   "cell_type": "code",
   "execution_count": 15,
   "metadata": {
    "collapsed": false
   },
   "outputs": [
    {
     "name": "stdout",
     "output_type": "stream",
     "text": [
      "generating default value\n",
      "cross validating 1\n",
      "got the default value 1\n",
      "-------------------------------\n",
      "get an error assigning strings\n",
      "-------------------------------\n",
      "cross validating 1\n",
      "assigned, but no change occured\n",
      "-------------------------------\n",
      "cross validating 2\n",
      "observed a change from 1 to 2\n",
      "-------------------------------\n"
     ]
    }
   ],
   "source": [
    "mc = MyClass()\n",
    "\n",
    "print(\"got the default value %r\" % mc.i)\n",
    "print(\"-------------------------------\")\n",
    "try:\n",
    "    mc.i = \"1\"\n",
    "except TraitError:\n",
    "    print(\"get an error assigning strings\")\n",
    "print(\"-------------------------------\")\n",
    "mc.i = 1\n",
    "print(\"assigned, but no change occured\")\n",
    "print(\"-------------------------------\")\n",
    "mc.i = 2\n",
    "print(\"-------------------------------\")"
   ]
  },
  {
   "cell_type": "markdown",
   "metadata": {},
   "source": [
    "### Register observers on the fly"
   ]
  },
  {
   "cell_type": "code",
   "execution_count": 16,
   "metadata": {
    "collapsed": false
   },
   "outputs": [
    {
     "name": "stdout",
     "output_type": "stream",
     "text": [
      "cross validating 3\n",
      "observed a change from 2 to 3\n",
      "caught the same change on the fly\n"
     ]
    }
   ],
   "source": [
    "def on_the_fly_observer(change):\n",
    "    print(\"caught the same change on the fly\" % change)\n",
    "\n",
    "mc.observe(on_the_fly_observer, \"i\")\n",
    "mc.i = 3"
   ]
  },
  {
   "cell_type": "markdown",
   "metadata": {},
   "source": [
    "---\n",
    "\n",
    "# Work In Progress... Ignore All Below This Point..."
   ]
  },
  {
   "cell_type": "code",
   "execution_count": 17,
   "metadata": {
    "collapsed": true
   },
   "outputs": [],
   "source": [
    "import functools\n",
    "from traitlets import *\n",
    "\n",
    "\n",
    "def go_between(public, proxy=None):\n",
    "    return GoBetween(public, proxy or \"\")\n",
    "\n",
    "\n",
    "class GoBetween(DefaultHandler):\n",
    "\n",
    "    def __init__(self, public, proxy):\n",
    "        super(GoBetween, self).__init__([public], tags=None)\n",
    "        self.trait_name = self.trait_names[0]\n",
    "        self.proxy = proxy\n",
    "\n",
    "    def _init_call(self, func):\n",
    "        @functools.wraps(func)\n",
    "        def wrapper(owner):\n",
    "            if not hasattr(owner, self.proxy):\n",
    "                # Solely in order to assign a default value to the proxy\n",
    "                # trait as would be expected of the public one were there\n",
    "                # no go between applied to it.\n",
    "                default = getattr(type(owner), self.trait_name).default()\n",
    "                setattr(owner, self.proxy, default)\n",
    "            return func(owner)\n",
    "        self.func = wrapper\n",
    "        return self\n",
    "\n",
    "    def instance_init(self, obj):\n",
    "        # reset the value after a default is generated\n",
    "        # and after a new value is assigned.\n",
    "        obj.observe(self._reset, self.trait_name, \"change\")\n",
    "        obj.observe(self._reset, self.trait_name, \"default\")\n",
    "\n",
    "    def _reset(self, data):\n",
    "        try:\n",
    "            # delete the value which is currently present\n",
    "            # doing so will cause the default generator to\n",
    "            # be called again.\n",
    "            del data.owner._trait_values[data.name]\n",
    "        except:\n",
    "            pass\n",
    "        else:\n",
    "            if hasattr(data, \"new\"):\n",
    "                # the data is a change notification and\n",
    "                # we assign the new value to a proxy trait\n",
    "                # which was specified in the decorator.\n",
    "                setattr(data.owner, self.proxy, data.new)\n",
    "            # otherwise it was a default notification\n",
    "            # and we don't need to worry about it"
   ]
  },
  {
   "cell_type": "code",
   "execution_count": 18,
   "metadata": {
    "collapsed": false
   },
   "outputs": [],
   "source": [
    "class A(HasTraits):\n",
    "    \n",
    "    standard_transform = Int()\n",
    "    other_special_transform = Int()\n",
    "    \n",
    "    special_transform = Int(read_only=True)\n",
    "    \n",
    "    @go_between(\"special_transform\")\n",
    "    def get_a(self):\n",
    "        return self.standard_transform + self.other_special_transform\n",
    "    \n"
   ]
  },
  {
   "cell_type": "code",
   "execution_count": null,
   "metadata": {
    "collapsed": true
   },
   "outputs": [],
   "source": []
  }
 ],
 "metadata": {
  "anaconda-cloud": {},
  "kernelspec": {
   "display_name": "Python [conda root]",
   "language": "python",
   "name": "conda-root-py"
  },
  "language_info": {
   "codemirror_mode": {
    "name": "ipython",
    "version": 3
   },
   "file_extension": ".py",
   "mimetype": "text/x-python",
   "name": "python",
   "nbconvert_exporter": "python",
   "pygments_lexer": "ipython3",
   "version": "3.5.3"
  }
 },
 "nbformat": 4,
 "nbformat_minor": 1
}
